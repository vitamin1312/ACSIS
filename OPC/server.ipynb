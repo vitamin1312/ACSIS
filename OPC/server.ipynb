{
 "cells": [
  {
   "cell_type": "code",
   "execution_count": 6,
   "id": "c33fe663-97c3-4859-98f1-a25c5a9aa7bd",
   "metadata": {},
   "outputs": [
    {
     "name": "stdout",
     "output_type": "stream",
     "text": [
      "Requirement already satisfied: freeopcua in c:\\users\\vikto\\anaconda3\\lib\\site-packages (0.90.6)\n",
      "Requirement already satisfied: opcua in c:\\users\\vikto\\anaconda3\\lib\\site-packages (from freeopcua) (0.98.13)\n",
      "Requirement already satisfied: lxml in c:\\users\\vikto\\anaconda3\\lib\\site-packages (from opcua->freeopcua) (5.3.0)\n",
      "Requirement already satisfied: python-dateutil in c:\\users\\vikto\\anaconda3\\lib\\site-packages (from opcua->freeopcua) (2.8.2)\n",
      "Requirement already satisfied: pytz in c:\\users\\vikto\\anaconda3\\lib\\site-packages (from opcua->freeopcua) (2022.1)\n",
      "Requirement already satisfied: six>=1.5 in c:\\users\\vikto\\anaconda3\\lib\\site-packages (from python-dateutil->opcua->freeopcua) (1.16.0)\n"
     ]
    },
    {
     "name": "stderr",
     "output_type": "stream",
     "text": [
      "\n",
      "[notice] A new release of pip is available: 24.2 -> 24.3.1\n",
      "[notice] To update, run: python.exe -m pip install --upgrade pip\n"
     ]
    },
    {
     "name": "stdout",
     "output_type": "stream",
     "text": [
      "Requirement already satisfied: opcua-client in c:\\users\\vikto\\anaconda3\\lib\\site-packages (0.8.4)\n",
      "Requirement already satisfied: PyQt5 in c:\\users\\vikto\\anaconda3\\lib\\site-packages (from opcua-client) (5.15.7)\n",
      "Requirement already satisfied: asyncua in c:\\users\\vikto\\anaconda3\\lib\\site-packages (from opcua-client) (1.1.5)\n",
      "Requirement already satisfied: opcua-widgets>=0.6.0 in c:\\users\\vikto\\anaconda3\\lib\\site-packages (from opcua-client) (0.6.1)\n",
      "Requirement already satisfied: aiofiles in c:\\users\\vikto\\anaconda3\\lib\\site-packages (from asyncua->opcua-client) (24.1.0)\n",
      "Requirement already satisfied: aiosqlite in c:\\users\\vikto\\anaconda3\\lib\\site-packages (from asyncua->opcua-client) (0.20.0)\n",
      "Requirement already satisfied: python-dateutil in c:\\users\\vikto\\anaconda3\\lib\\site-packages (from asyncua->opcua-client) (2.8.2)\n",
      "Requirement already satisfied: pytz in c:\\users\\vikto\\anaconda3\\lib\\site-packages (from asyncua->opcua-client) (2022.1)\n",
      "Requirement already satisfied: cryptography>42.0.0 in c:\\users\\vikto\\anaconda3\\lib\\site-packages (from asyncua->opcua-client) (43.0.3)\n",
      "Requirement already satisfied: sortedcontainers in c:\\users\\vikto\\anaconda3\\lib\\site-packages (from asyncua->opcua-client) (2.4.0)\n",
      "Requirement already satisfied: pyOpenSSL>23.2.0 in c:\\users\\vikto\\anaconda3\\lib\\site-packages (from asyncua->opcua-client) (24.2.1)\n",
      "Requirement already satisfied: typing-extensions in c:\\users\\vikto\\anaconda3\\lib\\site-packages (from asyncua->opcua-client) (4.4.0)\n",
      "Requirement already satisfied: PyQt5-sip<13,>=12.11 in c:\\users\\vikto\\anaconda3\\lib\\site-packages (from PyQt5->opcua-client) (12.11.0)\n",
      "Requirement already satisfied: cffi>=1.12 in c:\\users\\vikto\\anaconda3\\lib\\site-packages (from cryptography>42.0.0->asyncua->opcua-client) (1.15.1)\n",
      "Requirement already satisfied: six>=1.5 in c:\\users\\vikto\\anaconda3\\lib\\site-packages (from python-dateutil->asyncua->opcua-client) (1.16.0)\n",
      "Requirement already satisfied: pycparser in c:\\users\\vikto\\anaconda3\\lib\\site-packages (from cffi>=1.12->cryptography>42.0.0->asyncua->opcua-client) (2.21)\n"
     ]
    },
    {
     "name": "stderr",
     "output_type": "stream",
     "text": [
      "\n",
      "[notice] A new release of pip is available: 24.2 -> 24.3.1\n",
      "[notice] To update, run: python.exe -m pip install --upgrade pip\n"
     ]
    },
    {
     "name": "stdout",
     "output_type": "stream",
     "text": [
      "Collecting httplib2\n",
      "  Downloading httplib2-0.22.0-py3-none-any.whl.metadata (2.6 kB)\n",
      "Requirement already satisfied: pyparsing!=3.0.0,!=3.0.1,!=3.0.2,!=3.0.3,<4,>=2.4.2 in c:\\users\\vikto\\anaconda3\\lib\\site-packages (from httplib2) (3.0.9)\n",
      "Downloading httplib2-0.22.0-py3-none-any.whl (96 kB)\n",
      "Installing collected packages: httplib2\n",
      "Successfully installed httplib2-0.22.0\n"
     ]
    },
    {
     "name": "stderr",
     "output_type": "stream",
     "text": [
      "\n",
      "[notice] A new release of pip is available: 24.2 -> 24.3.1\n",
      "[notice] To update, run: python.exe -m pip install --upgrade pip\n"
     ]
    }
   ],
   "source": [
    "!pip install freeopcua\n",
    "!pip install opcua-client\n",
    "!pip install httplib2"
   ]
  },
  {
   "cell_type": "code",
   "execution_count": 9,
   "id": "310d1e35-1935-4cdd-b6ee-38a4fa202d29",
   "metadata": {},
   "outputs": [],
   "source": [
    "import time\n",
    "from opcua import Client, Server\n",
    "import sys\n",
    "import random\n",
    "import httplib2"
   ]
  },
  {
   "cell_type": "code",
   "execution_count": 10,
   "id": "c4765ab7-3e0a-4a3f-aafb-f2979f9430c3",
   "metadata": {},
   "outputs": [
    {
     "name": "stdout",
     "output_type": "stream",
     "text": [
      "   207.8 K\n"
     ]
    },
    {
     "ename": "TypeError",
     "evalue": "close() missing 1 required positional argument: 'self'",
     "output_type": "error",
     "traceback": [
      "\u001b[1;31m---------------------------------------------------------------------------\u001b[0m",
      "\u001b[1;31mTypeError\u001b[0m                                 Traceback (most recent call last)",
      "Cell \u001b[1;32mIn [10], line 25\u001b[0m\n\u001b[0;32m     22\u001b[0m     time\u001b[38;5;241m.\u001b[39msleep(\u001b[38;5;241m2\u001b[39m)\n\u001b[0;32m     24\u001b[0m \u001b[38;5;66;03m# server.stop()\u001b[39;00m\n\u001b[1;32m---> 25\u001b[0m \u001b[43mhttplib2\u001b[49m\u001b[38;5;241;43m.\u001b[39;49m\u001b[43mHTTPConnectionWithTimeout\u001b[49m\u001b[38;5;241;43m.\u001b[39;49m\u001b[43mclose\u001b[49m\u001b[43m(\u001b[49m\u001b[43m)\u001b[49m\n",
      "\u001b[1;31mTypeError\u001b[0m: close() missing 1 required positional argument: 'self'"
     ]
    }
   ],
   "source": [
    "URL = \"opc.tcp://0.0.0.0:4840\"\n",
    "\n",
    "# if __name__ == \"__main__\":\n",
    "server = Server()\n",
    "server.set_endpoint(URL)\n",
    "object1 = server.get_objects_node()\n",
    "NS = server.register_namespace('Управление измерением температуры')\n",
    "VM = object1.add_object(NS, 'Измерительная аппаратура')\n",
    "VT = VM.add_variable(NS, 'Температура', 0.)\n",
    "\n",
    "T_mean = 220.\n",
    "\n",
    "T = random.uniform(200., 240.)\n",
    "print(f'{T :8.1f} K')\n",
    "VT.set_value(T)\n",
    "time.sleep(0.5)\n",
    "\n",
    "while T < 100:\n",
    "    T = random.uniform(200., 240.)\n",
    "    print(f'{T :8.1f} K')\n",
    "    VT.set_value(T)\n",
    "    time.sleep(2)\n",
    "\n",
    "# server.stop()\n",
    "httplib2.HTTPConnectionWithTimeout.close()"
   ]
  },
  {
   "cell_type": "code",
   "execution_count": null,
   "id": "1fd92e72-cf48-4b5a-9792-c53143b68874",
   "metadata": {},
   "outputs": [],
   "source": []
  }
 ],
 "metadata": {
  "kernelspec": {
   "display_name": "myenv",
   "language": "python",
   "name": "myenv"
  },
  "language_info": {
   "codemirror_mode": {
    "name": "ipython",
    "version": 3
   },
   "file_extension": ".py",
   "mimetype": "text/x-python",
   "name": "python",
   "nbconvert_exporter": "python",
   "pygments_lexer": "ipython3",
   "version": "3.9.19"
  }
 },
 "nbformat": 4,
 "nbformat_minor": 5
}
